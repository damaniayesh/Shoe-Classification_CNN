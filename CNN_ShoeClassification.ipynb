{
 "cells": [
  {
   "cell_type": "markdown",
   "id": "a2191040-a1e1-4d4f-a392-1ffdb63eeef3",
   "metadata": {},
   "source": [
    "## CNN - Shoe Classification"
   ]
  },
  {
   "cell_type": "code",
   "execution_count": 29,
   "id": "c9bda71b-848e-4bf6-bd40-ad8678272c63",
   "metadata": {},
   "outputs": [],
   "source": [
    "# Importing Neccessary Libraries\n",
    "import os\n",
    "import numpy as np\n",
    "import tensorflow as tf\n",
    "from tensorflow.keras.preprocessing.image import load_img, img_to_array\n",
    "from tensorflow.keras.models import load_model\n",
    "from tensorflow.keras.preprocessing.image import ImageDataGenerator\n",
    "from tensorflow.keras.models import Sequential\n",
    "from tensorflow.keras.layers import Conv2D, MaxPooling2D, Flatten, Dense"
   ]
  },
  {
   "cell_type": "code",
   "execution_count": 2,
   "id": "4a4a3289-5fdf-472c-a0b4-b44cf82514e9",
   "metadata": {},
   "outputs": [],
   "source": [
    "# Set the path to the train and test data folders\n",
    "train_data_dir = (r'C:\\Users\\Yesh Damania\\Downloads\\DL Exam\\DL + AI Exam Paper\\Dataset\\CNN\\Shoe Classification\\train')\n",
    "test_data_dir = (r'C:\\Users\\Yesh Damania\\Downloads\\DL Exam\\DL + AI Exam Paper\\Dataset\\CNN\\Shoe Classification\\test')"
   ]
  },
  {
   "cell_type": "code",
   "execution_count": 3,
   "id": "1c7ded86-5390-46df-9503-3f369f3cf488",
   "metadata": {},
   "outputs": [],
   "source": [
    "# Image dimensions\n",
    "img_width, img_height = 150, 150\n",
    "input_shape = (img_width, img_height, 3)  # 3 channels for RGB images"
   ]
  },
  {
   "cell_type": "code",
   "execution_count": 4,
   "id": "0eadfd2c-2847-466f-852f-7cf0a0fb0ba4",
   "metadata": {},
   "outputs": [],
   "source": [
    "# Number of classes\n",
    "num_classes = 3  # Boots, Sandals, Slippers"
   ]
  },
  {
   "cell_type": "code",
   "execution_count": 5,
   "id": "fb73548b-b88c-430a-b63a-1f924a7a7bd1",
   "metadata": {},
   "outputs": [],
   "source": [
    "# Hyperparameters\n",
    "batch_size = 32\n",
    "epochs = 20"
   ]
  },
  {
   "cell_type": "code",
   "execution_count": 6,
   "id": "91cd1573-f7df-425a-a574-f379aaf7297c",
   "metadata": {},
   "outputs": [],
   "source": [
    "# Data preprocessing and augmentation\n",
    "train_datagen = ImageDataGenerator(\n",
    "    rescale=1./255,          # Rescale pixel values to [0, 1]\n",
    "    shear_range=0.2,         # Shear transformations\n",
    "    zoom_range=0.2,          # Zoom transformations\n",
    "    horizontal_flip=True    # Horizontal flips\n",
    ")\n",
    "\n"
   ]
  },
  {
   "cell_type": "code",
   "execution_count": 7,
   "id": "89fa648f-e653-4e80-962c-6007d4469efe",
   "metadata": {},
   "outputs": [],
   "source": [
    "test_datagen = ImageDataGenerator(rescale=1./255)"
   ]
  },
  {
   "cell_type": "code",
   "execution_count": 8,
   "id": "9e563f4a-7132-4966-b4e7-c8586696e5af",
   "metadata": {},
   "outputs": [
    {
     "name": "stdout",
     "output_type": "stream",
     "text": [
      "Found 778 images belonging to 3 classes.\n"
     ]
    }
   ],
   "source": [
    "# Load and preprocess training data\n",
    "train_generator = train_datagen.flow_from_directory(\n",
    "    r'C:\\Users\\Yesh Damania\\Downloads\\DL Exam\\DL + AI Exam Paper\\Dataset\\CNN\\Shoe Classification\\train',\n",
    "    target_size=(img_width, img_height),\n",
    "    batch_size=batch_size,\n",
    "    class_mode='categorical'\n",
    ")"
   ]
  },
  {
   "cell_type": "code",
   "execution_count": 9,
   "id": "38912904-8e6e-42d3-b75d-6105a1552286",
   "metadata": {},
   "outputs": [
    {
     "name": "stdout",
     "output_type": "stream",
     "text": [
      "Found 0 images belonging to 0 classes.\n"
     ]
    }
   ],
   "source": [
    "# Load and preprocess test data\n",
    "test_generator = test_datagen.flow_from_directory(\n",
    "    r'C:\\Users\\Yesh Damania\\Downloads\\DL Exam\\DL + AI Exam Paper\\Dataset\\CNN\\Shoe Classification\\test',\n",
    "    target_size=(img_width, img_height),\n",
    "    batch_size=batch_size,\n",
    "    class_mode='categorical',\n",
    "    shuffle=False\n",
    ")"
   ]
  },
  {
   "cell_type": "code",
   "execution_count": 10,
   "id": "cac10ff3-ba72-424f-bd71-e916bfc98986",
   "metadata": {},
   "outputs": [
    {
     "name": "stdout",
     "output_type": "stream",
     "text": [
      "WARNING:tensorflow:From C:\\Users\\Yesh Damania\\AppData\\Roaming\\Python\\Python311\\site-packages\\keras\\src\\backend.py:873: The name tf.get_default_graph is deprecated. Please use tf.compat.v1.get_default_graph instead.\n",
      "\n",
      "WARNING:tensorflow:From C:\\Users\\Yesh Damania\\AppData\\Roaming\\Python\\Python311\\site-packages\\keras\\src\\layers\\pooling\\max_pooling2d.py:161: The name tf.nn.max_pool is deprecated. Please use tf.nn.max_pool2d instead.\n",
      "\n"
     ]
    }
   ],
   "source": [
    "# Build the CNN model\n",
    "model = Sequential([\n",
    "    Conv2D(32, (3, 3), activation='relu', input_shape=input_shape),\n",
    "    MaxPooling2D((2, 2)),\n",
    "    Conv2D(64, (3, 3), activation='relu'),\n",
    "    MaxPooling2D((2, 2)),\n",
    "    Conv2D(128, (3, 3), activation='relu'),\n",
    "    MaxPooling2D((2, 2)),\n",
    "    Conv2D(128, (3, 3), activation='relu'),\n",
    "    MaxPooling2D((2, 2)),\n",
    "    Flatten(),\n",
    "    Dense(512, activation='relu'),\n",
    "    Dense(num_classes, activation='softmax')\n",
    "])"
   ]
  },
  {
   "cell_type": "code",
   "execution_count": 11,
   "id": "dc6aab5b-3e74-4ede-b167-4b78e309f9be",
   "metadata": {},
   "outputs": [
    {
     "name": "stdout",
     "output_type": "stream",
     "text": [
      "WARNING:tensorflow:From C:\\Users\\Yesh Damania\\AppData\\Roaming\\Python\\Python311\\site-packages\\keras\\src\\optimizers\\__init__.py:309: The name tf.train.Optimizer is deprecated. Please use tf.compat.v1.train.Optimizer instead.\n",
      "\n"
     ]
    }
   ],
   "source": [
    "# Compile the model\n",
    "model.compile(optimizer='adam',\n",
    "              loss='categorical_crossentropy',\n",
    "              metrics=['accuracy'])"
   ]
  },
  {
   "cell_type": "code",
   "execution_count": 12,
   "id": "adc3870e-93f8-4b18-9579-059b7bd429da",
   "metadata": {
    "scrolled": true
   },
   "outputs": [
    {
     "name": "stdout",
     "output_type": "stream",
     "text": [
      "Epoch 1/20\n",
      "WARNING:tensorflow:From C:\\Users\\Yesh Damania\\AppData\\Roaming\\Python\\Python311\\site-packages\\keras\\src\\utils\\tf_utils.py:492: The name tf.ragged.RaggedTensorValue is deprecated. Please use tf.compat.v1.ragged.RaggedTensorValue instead.\n",
      "\n",
      "WARNING:tensorflow:From C:\\Users\\Yesh Damania\\AppData\\Roaming\\Python\\Python311\\site-packages\\keras\\src\\engine\\base_layer_utils.py:384: The name tf.executing_eagerly_outside_functions is deprecated. Please use tf.compat.v1.executing_eagerly_outside_functions instead.\n",
      "\n",
      "24/24 [==============================] - 14s 469ms/step - loss: 0.9957 - accuracy: 0.5130\n",
      "Epoch 2/20\n",
      "24/24 [==============================] - 12s 519ms/step - loss: 0.5389 - accuracy: 0.7775\n",
      "Epoch 3/20\n",
      "24/24 [==============================] - 11s 490ms/step - loss: 0.4570 - accuracy: 0.8110\n",
      "Epoch 4/20\n",
      "24/24 [==============================] - 11s 451ms/step - loss: 0.3459 - accuracy: 0.8606\n",
      "Epoch 5/20\n",
      "24/24 [==============================] - 12s 478ms/step - loss: 0.3632 - accuracy: 0.8499\n",
      "Epoch 6/20\n",
      "24/24 [==============================] - 11s 467ms/step - loss: 0.3483 - accuracy: 0.8633\n",
      "Epoch 7/20\n",
      "24/24 [==============================] - 11s 461ms/step - loss: 0.2622 - accuracy: 0.8995\n",
      "Epoch 8/20\n",
      "24/24 [==============================] - 11s 470ms/step - loss: 0.2641 - accuracy: 0.8941\n",
      "Epoch 9/20\n",
      "24/24 [==============================] - 11s 455ms/step - loss: 0.2457 - accuracy: 0.9035\n",
      "Epoch 10/20\n",
      "24/24 [==============================] - 11s 463ms/step - loss: 0.1801 - accuracy: 0.9343\n",
      "Epoch 11/20\n",
      "24/24 [==============================] - 11s 460ms/step - loss: 0.1743 - accuracy: 0.9330\n",
      "Epoch 12/20\n",
      "24/24 [==============================] - 11s 457ms/step - loss: 0.1414 - accuracy: 0.9491\n",
      "Epoch 13/20\n",
      "24/24 [==============================] - 11s 472ms/step - loss: 0.1892 - accuracy: 0.9182\n",
      "Epoch 14/20\n",
      "24/24 [==============================] - 11s 457ms/step - loss: 0.1420 - accuracy: 0.9370\n",
      "Epoch 15/20\n",
      "24/24 [==============================] - 11s 442ms/step - loss: 0.1243 - accuracy: 0.9625\n",
      "Epoch 16/20\n",
      "24/24 [==============================] - 11s 445ms/step - loss: 0.1046 - accuracy: 0.9598\n",
      "Epoch 17/20\n",
      "24/24 [==============================] - 11s 446ms/step - loss: 0.0859 - accuracy: 0.9732\n",
      "Epoch 18/20\n",
      "24/24 [==============================] - 11s 440ms/step - loss: 0.0972 - accuracy: 0.9571\n",
      "Epoch 19/20\n",
      "24/24 [==============================] - 11s 440ms/step - loss: 0.0874 - accuracy: 0.9665\n",
      "Epoch 20/20\n",
      "24/24 [==============================] - 11s 439ms/step - loss: 0.0581 - accuracy: 0.9799\n"
     ]
    },
    {
     "data": {
      "text/plain": [
       "<keras.src.callbacks.History at 0x27f2b056690>"
      ]
     },
     "execution_count": 12,
     "metadata": {},
     "output_type": "execute_result"
    }
   ],
   "source": [
    "# Train the model\n",
    "model.fit(\n",
    "    train_generator,\n",
    "    steps_per_epoch=train_generator.samples // batch_size,\n",
    "    epochs=epochs\n",
    ")"
   ]
  },
  {
   "cell_type": "code",
   "execution_count": 30,
   "id": "b281a657-1c0c-4ce6-97f5-82db3f3fa694",
   "metadata": {},
   "outputs": [],
   "source": [
    "# Function to load and preprocess a single image\n",
    "def load_image(filename, img_width, img_height):\n",
    "    img = load_img(filename, target_size=(img_width, img_height))\n",
    "    img = img_to_array(img) / 255.0\n",
    "    img = np.expand_dims(img, axis=0)\n",
    "    return img"
   ]
  },
  {
   "cell_type": "code",
   "execution_count": 31,
   "id": "3fc5d68d-d52e-4ae0-81a9-f13d2ad703bd",
   "metadata": {},
   "outputs": [
    {
     "name": "stdout",
     "output_type": "stream",
     "text": [
      "1/1 [==============================] - 0s 178ms/step\n",
      "Image: image (1).jpg, Predicted Class: 1\n",
      "1/1 [==============================] - 0s 32ms/step\n",
      "Image: image (10).jpg, Predicted Class: 0\n",
      "1/1 [==============================] - 0s 32ms/step\n",
      "Image: image (11).jpg, Predicted Class: 0\n",
      "1/1 [==============================] - 0s 31ms/step\n",
      "Image: image (12).jpg, Predicted Class: 2\n",
      "1/1 [==============================] - 0s 30ms/step\n",
      "Image: image (13).jpg, Predicted Class: 0\n",
      "1/1 [==============================] - 0s 30ms/step\n",
      "Image: image (14).jpg, Predicted Class: 1\n",
      "1/1 [==============================] - 0s 31ms/step\n",
      "Image: image (15).jpg, Predicted Class: 0\n",
      "1/1 [==============================] - 0s 32ms/step\n",
      "Image: image (16).jpg, Predicted Class: 1\n",
      "1/1 [==============================] - 0s 33ms/step\n",
      "Image: image (17).jpg, Predicted Class: 1\n",
      "1/1 [==============================] - 0s 31ms/step\n",
      "Image: image (18).jpg, Predicted Class: 0\n",
      "1/1 [==============================] - 0s 32ms/step\n",
      "Image: image (19).jpg, Predicted Class: 0\n",
      "1/1 [==============================] - 0s 30ms/step\n",
      "Image: image (2).jpg, Predicted Class: 0\n",
      "1/1 [==============================] - 0s 30ms/step\n",
      "Image: image (20).jpg, Predicted Class: 0\n",
      "1/1 [==============================] - 0s 33ms/step\n",
      "Image: image (21).jpg, Predicted Class: 0\n",
      "1/1 [==============================] - 0s 33ms/step\n",
      "Image: image (22).jpg, Predicted Class: 0\n",
      "1/1 [==============================] - 0s 29ms/step\n",
      "Image: image (23).jpg, Predicted Class: 0\n",
      "1/1 [==============================] - 0s 26ms/step\n",
      "Image: image (24).jpg, Predicted Class: 1\n",
      "1/1 [==============================] - 0s 26ms/step\n",
      "Image: image (25).jpg, Predicted Class: 1\n",
      "1/1 [==============================] - 0s 25ms/step\n",
      "Image: image (26).jpg, Predicted Class: 1\n",
      "1/1 [==============================] - 0s 26ms/step\n",
      "Image: image (27).jpg, Predicted Class: 1\n",
      "1/1 [==============================] - 0s 31ms/step\n",
      "Image: image (28).jpg, Predicted Class: 1\n",
      "1/1 [==============================] - 0s 29ms/step\n",
      "Image: image (29).jpg, Predicted Class: 1\n",
      "1/1 [==============================] - 0s 30ms/step\n",
      "Image: image (3).jpg, Predicted Class: 0\n",
      "1/1 [==============================] - 0s 31ms/step\n",
      "Image: image (30).jpg, Predicted Class: 1\n",
      "1/1 [==============================] - 0s 24ms/step\n",
      "Image: image (31).jpg, Predicted Class: 0\n",
      "1/1 [==============================] - 0s 27ms/step\n",
      "Image: image (32).jpg, Predicted Class: 0\n",
      "1/1 [==============================] - 0s 26ms/step\n",
      "Image: image (33).jpg, Predicted Class: 0\n",
      "1/1 [==============================] - 0s 28ms/step\n",
      "Image: image (34).jpg, Predicted Class: 0\n",
      "1/1 [==============================] - 0s 28ms/step\n",
      "Image: image (35).jpg, Predicted Class: 2\n",
      "1/1 [==============================] - 0s 28ms/step\n",
      "Image: image (36).jpg, Predicted Class: 2\n",
      "1/1 [==============================] - 0s 28ms/step\n",
      "Image: image (37).jpg, Predicted Class: 0\n",
      "1/1 [==============================] - 0s 28ms/step\n",
      "Image: image (38).jpg, Predicted Class: 0\n",
      "1/1 [==============================] - 0s 28ms/step\n",
      "Image: image (39).jpg, Predicted Class: 0\n",
      "1/1 [==============================] - 0s 27ms/step\n",
      "Image: image (4).jpg, Predicted Class: 0\n",
      "1/1 [==============================] - 0s 26ms/step\n",
      "Image: image (40).jpg, Predicted Class: 0\n",
      "1/1 [==============================] - 0s 28ms/step\n",
      "Image: image (41).jpg, Predicted Class: 0\n",
      "1/1 [==============================] - 0s 28ms/step\n",
      "Image: image (42).jpg, Predicted Class: 0\n",
      "1/1 [==============================] - 0s 28ms/step\n",
      "Image: image (43).jpg, Predicted Class: 0\n",
      "1/1 [==============================] - 0s 28ms/step\n",
      "Image: image (44).jpg, Predicted Class: 0\n",
      "1/1 [==============================] - 0s 28ms/step\n",
      "Image: image (45).jpg, Predicted Class: 0\n",
      "1/1 [==============================] - 0s 28ms/step\n",
      "Image: image (46).jpg, Predicted Class: 0\n",
      "1/1 [==============================] - 0s 29ms/step\n",
      "Image: image (47).jpg, Predicted Class: 0\n",
      "1/1 [==============================] - 0s 28ms/step\n",
      "Image: image (48).jpg, Predicted Class: 0\n",
      "1/1 [==============================] - 0s 28ms/step\n",
      "Image: image (49).jpg, Predicted Class: 1\n",
      "1/1 [==============================] - 0s 28ms/step\n",
      "Image: image (5).jpg, Predicted Class: 1\n",
      "1/1 [==============================] - 0s 28ms/step\n",
      "Image: image (50).jpg, Predicted Class: 1\n",
      "1/1 [==============================] - 0s 26ms/step\n",
      "Image: image (51).jpg, Predicted Class: 2\n",
      "1/1 [==============================] - 0s 28ms/step\n",
      "Image: image (52).jpg, Predicted Class: 2\n",
      "1/1 [==============================] - 0s 30ms/step\n",
      "Image: image (53).jpg, Predicted Class: 1\n",
      "1/1 [==============================] - 0s 28ms/step\n",
      "Image: image (54).jpg, Predicted Class: 1\n",
      "1/1 [==============================] - 0s 29ms/step\n",
      "Image: image (55).jpg, Predicted Class: 2\n",
      "1/1 [==============================] - 0s 32ms/step\n",
      "Image: image (56).jpg, Predicted Class: 1\n",
      "1/1 [==============================] - 0s 26ms/step\n",
      "Image: image (57).jpg, Predicted Class: 1\n",
      "1/1 [==============================] - 0s 25ms/step\n",
      "Image: image (58).jpg, Predicted Class: 2\n",
      "1/1 [==============================] - 0s 25ms/step\n",
      "Image: image (59).jpg, Predicted Class: 2\n",
      "1/1 [==============================] - 0s 28ms/step\n",
      "Image: image (6).jpg, Predicted Class: 0\n",
      "1/1 [==============================] - 0s 25ms/step\n",
      "Image: image (60).jpg, Predicted Class: 2\n",
      "1/1 [==============================] - 0s 27ms/step\n",
      "Image: image (61).jpg, Predicted Class: 2\n",
      "1/1 [==============================] - 0s 26ms/step\n",
      "Image: image (62).jpg, Predicted Class: 2\n",
      "1/1 [==============================] - 0s 26ms/step\n",
      "Image: image (63).jpg, Predicted Class: 2\n",
      "1/1 [==============================] - 0s 28ms/step\n",
      "Image: image (64).jpg, Predicted Class: 1\n",
      "1/1 [==============================] - 0s 26ms/step\n",
      "Image: image (65).jpg, Predicted Class: 1\n",
      "1/1 [==============================] - 0s 27ms/step\n",
      "Image: image (66).jpg, Predicted Class: 1\n",
      "1/1 [==============================] - 0s 27ms/step\n",
      "Image: image (67).jpg, Predicted Class: 1\n",
      "1/1 [==============================] - 0s 35ms/step\n",
      "Image: image (68).jpg, Predicted Class: 1\n",
      "1/1 [==============================] - 0s 28ms/step\n",
      "Image: image (69).jpg, Predicted Class: 2\n",
      "1/1 [==============================] - 0s 26ms/step\n",
      "Image: image (7).jpg, Predicted Class: 0\n",
      "1/1 [==============================] - 0s 24ms/step\n",
      "Image: image (70).jpg, Predicted Class: 1\n",
      "1/1 [==============================] - 0s 26ms/step\n",
      "Image: image (71).jpg, Predicted Class: 2\n",
      "1/1 [==============================] - 0s 26ms/step\n",
      "Image: image (72).jpg, Predicted Class: 2\n",
      "1/1 [==============================] - 0s 27ms/step\n",
      "Image: image (73).jpg, Predicted Class: 2\n",
      "1/1 [==============================] - 0s 25ms/step\n",
      "Image: image (74).jpg, Predicted Class: 2\n",
      "1/1 [==============================] - 0s 29ms/step\n",
      "Image: image (75).jpg, Predicted Class: 2\n",
      "1/1 [==============================] - 0s 27ms/step\n",
      "Image: image (76).jpg, Predicted Class: 2\n",
      "1/1 [==============================] - 0s 28ms/step\n",
      "Image: image (77).jpg, Predicted Class: 2\n",
      "1/1 [==============================] - 0s 28ms/step\n",
      "Image: image (78).jpg, Predicted Class: 2\n",
      "1/1 [==============================] - 0s 29ms/step\n",
      "Image: image (79).jpg, Predicted Class: 2\n",
      "1/1 [==============================] - 0s 26ms/step\n",
      "Image: image (8).jpg, Predicted Class: 2\n",
      "1/1 [==============================] - 0s 26ms/step\n",
      "Image: image (80).jpg, Predicted Class: 2\n",
      "1/1 [==============================] - 0s 27ms/step\n",
      "Image: image (81).jpg, Predicted Class: 2\n",
      "1/1 [==============================] - 0s 26ms/step\n",
      "Image: image (82).jpg, Predicted Class: 2\n",
      "1/1 [==============================] - 0s 27ms/step\n",
      "Image: image (83).jpg, Predicted Class: 1\n",
      "1/1 [==============================] - 0s 27ms/step\n",
      "Image: image (84).jpg, Predicted Class: 1\n",
      "1/1 [==============================] - 0s 24ms/step\n",
      "Image: image (85).jpg, Predicted Class: 2\n",
      "1/1 [==============================] - 0s 27ms/step\n",
      "Image: image (86).jpg, Predicted Class: 1\n",
      "1/1 [==============================] - 0s 26ms/step\n",
      "Image: image (87).jpg, Predicted Class: 1\n",
      "1/1 [==============================] - 0s 26ms/step\n",
      "Image: image (88).jpg, Predicted Class: 1\n",
      "1/1 [==============================] - 0s 28ms/step\n",
      "Image: image (89).jpg, Predicted Class: 2\n",
      "1/1 [==============================] - 0s 26ms/step\n",
      "Image: image (9).jpg, Predicted Class: 2\n"
     ]
    }
   ],
   "source": [
    "# Predict classes for unlabelled test images\n",
    "test_images = os.listdir(test_data_dir)\n",
    "for image_name in test_images:\n",
    "    image_path = os.path.join(test_data_dir, image_name)\n",
    "    image = load_image(image_path, img_width, img_height)  # Assuming img_width and img_height are defined\n",
    "    predicted_class = model.predict(image)\n",
    "    predicted_label = np.argmax(predicted_class)\n",
    "    print(f\"Image: {image_name}, Predicted Class: {predicted_label}\")"
   ]
  },
  {
   "cell_type": "markdown",
   "id": "1703e028-f304-49b7-8841-6f12f30c140d",
   "metadata": {},
   "source": [
    "**The Above Predictions states that the Boots is identified successfully as class 0, Sandals as class 1 and Slippers as Class 2 in test data.**"
   ]
  },
  {
   "cell_type": "markdown",
   "id": "d7aaba40-7ea4-4648-8024-52bcd364a866",
   "metadata": {},
   "source": [
    "**------------------------------------------------------------------------------------ END -------------------------------------------------------------------------------------------**"
   ]
  }
 ],
 "metadata": {
  "kernelspec": {
   "display_name": "Python 3 (ipykernel)",
   "language": "python",
   "name": "python3"
  },
  "language_info": {
   "codemirror_mode": {
    "name": "ipython",
    "version": 3
   },
   "file_extension": ".py",
   "mimetype": "text/x-python",
   "name": "python",
   "nbconvert_exporter": "python",
   "pygments_lexer": "ipython3",
   "version": "3.11.7"
  }
 },
 "nbformat": 4,
 "nbformat_minor": 5
}
